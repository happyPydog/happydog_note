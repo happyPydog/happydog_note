{
 "cells": [
  {
   "cell_type": "code",
   "execution_count": 4,
   "metadata": {},
   "outputs": [
    {
     "name": "stdout",
     "output_type": "stream",
     "text": [
      "spark = <MagicMock id='4395274768'>, type(spark) = <class 'unittest.mock.MagicMock'>\n",
      "spark_reader = <MagicMock id='4394953680'>, type(spark_reader) = <class 'unittest.mock.MagicMock'>\n",
      "spark.read = <MagicMock id='4394953680'>\n",
      "spark.read = <MagicMock name='mock.read' id='4394953680'>\n"
     ]
    }
   ],
   "source": [
    "from unittest.mock import MagicMock, PropertyMock\n",
    "from pyspark.sql import SparkSession, DataFrame\n",
    "\n",
    "spark = MagicMock()\n",
    "spark_reader = MagicMock()\n",
    "\n",
    "print(f\"{spark = }, {type(spark) = }\")\n",
    "print(f\"{spark_reader = }, {type(spark_reader) = }\")\n",
    "\n",
    "type(spark).read = spark_reader\n",
    "print(f\"{spark.read = }\")\n",
    "\n",
    "spark.read = spark_reader\n",
    "print(f\"{spark.read = }\")"
   ]
  }
 ],
 "metadata": {
  "kernelspec": {
   "display_name": ".venv",
   "language": "python",
   "name": "python3"
  },
  "language_info": {
   "codemirror_mode": {
    "name": "ipython",
    "version": 3
   },
   "file_extension": ".py",
   "mimetype": "text/x-python",
   "name": "python",
   "nbconvert_exporter": "python",
   "pygments_lexer": "ipython3",
   "version": "3.11.4"
  }
 },
 "nbformat": 4,
 "nbformat_minor": 2
}
