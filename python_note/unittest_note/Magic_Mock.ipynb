{
 "cells": [
  {
   "cell_type": "code",
   "execution_count": 1,
   "metadata": {},
   "outputs": [
    {
     "name": "stdout",
     "output_type": "stream",
     "text": [
      "spark = <MagicMock id='4619480528'>, type(spark) = <class 'unittest.mock.MagicMock'>\n",
      "spark_reader = <MagicMock id='4692019280'>, type(spark_reader) = <class 'unittest.mock.MagicMock'>\n",
      "spark.read = <MagicMock id='4692019280'>\n",
      "spark.read = <MagicMock name='mock.read' id='4692019280'>\n"
     ]
    }
   ],
   "source": [
    "from unittest.mock import MagicMock\n",
    "\n",
    "spark = MagicMock()\n",
    "spark_reader = MagicMock()\n",
    "\n",
    "print(f\"{spark = }, {type(spark) = }\")\n",
    "print(f\"{spark_reader = }, {type(spark_reader) = }\")\n",
    "\n",
    "type(spark).read = spark_reader\n",
    "print(f\"{spark.read = }\")\n",
    "\n",
    "spark.read = spark_reader\n",
    "print(f\"{spark.read = }\")"
   ]
  },
  {
   "cell_type": "code",
   "execution_count": 1,
   "metadata": {},
   "outputs": [
    {
     "name": "stderr",
     "output_type": "stream",
     "text": [
      "/Users/happydog/dev/happydog_note/.venv/lib/python3.11/site-packages/pyspark/pandas/__init__.py:50: UserWarning: 'PYARROW_IGNORE_TIMEZONE' environment variable was not set. It is required to set this environment variable to '1' in both driver and executor sides if you use pyarrow>=2.0.0. pandas-on-Spark will set it for you but it does not work if there is a Spark context already launched.\n",
      "  warnings.warn(\n"
     ]
    }
   ],
   "source": [
    "from pyspark.testing.sqlutils import ReusedSQLTestCase\n",
    "\n",
    "\n",
    "class TestMagicMock(ReusedSQLTestCase):\n",
    "    pass"
   ]
  },
  {
   "cell_type": "code",
   "execution_count": 3,
   "metadata": {},
   "outputs": [
    {
     "ename": "NameError",
     "evalue": "name 'spark' is not defined",
     "output_type": "error",
     "traceback": [
      "\u001b[0;31m---------------------------------------------------------------------------\u001b[0m",
      "\u001b[0;31mNameError\u001b[0m                                 Traceback (most recent call last)",
      "Cell \u001b[0;32mIn[3], line 3\u001b[0m\n\u001b[1;32m      1\u001b[0m \u001b[38;5;28;01mfrom\u001b[39;00m \u001b[38;5;21;01mpyspark\u001b[39;00m\u001b[38;5;21;01m.\u001b[39;00m\u001b[38;5;21;01msql\u001b[39;00m \u001b[38;5;28;01mimport\u001b[39;00m DataFrame\n\u001b[1;32m      2\u001b[0m \u001b[38;5;28;01mfrom\u001b[39;00m \u001b[38;5;21;01mpyspark\u001b[39;00m\u001b[38;5;21;01m.\u001b[39;00m\u001b[38;5;21;01msql\u001b[39;00m \u001b[38;5;28;01mimport\u001b[39;00m functions \u001b[38;5;28;01mas\u001b[39;00m F\n\u001b[0;32m----> 3\u001b[0m df \u001b[38;5;241m=\u001b[39m DataFrame(\u001b[43mspark\u001b[49m\u001b[38;5;241m.\u001b[39msparkContext, spark\u001b[38;5;241m.\u001b[39m_jsparkSession)\n\u001b[1;32m      4\u001b[0m df\u001b[38;5;241m.\u001b[39mfilter(\n\u001b[1;32m      5\u001b[0m         (F\u001b[38;5;241m.\u001b[39mcol(\u001b[38;5;124m\"\u001b[39m\u001b[38;5;124mData_Month\u001b[39m\u001b[38;5;124m\"\u001b[39m) \u001b[38;5;241m<\u001b[39m F\u001b[38;5;241m.\u001b[39mto_date(F\u001b[38;5;241m.\u001b[39mlit(\u001b[38;5;124m\"\u001b[39m\u001b[38;5;124m2020-12-31\u001b[39m\u001b[38;5;124m\"\u001b[39m)))\n\u001b[1;32m      6\u001b[0m         \u001b[38;5;241m&\u001b[39m (F\u001b[38;5;241m.\u001b[39mcol(\u001b[38;5;124m\"\u001b[39m\u001b[38;5;124mData_Month\u001b[39m\u001b[38;5;124m\"\u001b[39m) \u001b[38;5;241m>\u001b[39m\u001b[38;5;241m=\u001b[39m F\u001b[38;5;241m.\u001b[39mto_date(F\u001b[38;5;241m.\u001b[39mlit(\u001b[38;5;124m\"\u001b[39m\u001b[38;5;124m2020-01-01\u001b[39m\u001b[38;5;124m\"\u001b[39m)))\n\u001b[1;32m      7\u001b[0m         \u001b[38;5;241m&\u001b[39m (F\u001b[38;5;241m.\u001b[39mcol(\u001b[38;5;124m\"\u001b[39m\u001b[38;5;124mLicense_Additional_Type\u001b[39m\u001b[38;5;124m\"\u001b[39m) \u001b[38;5;241m==\u001b[39m \u001b[38;5;124m\"\u001b[39m\u001b[38;5;124m0#0#0\u001b[39m\u001b[38;5;124m\"\u001b[39m)\n\u001b[1;32m      8\u001b[0m         \u001b[38;5;241m&\u001b[39m (F\u001b[38;5;241m.\u001b[39mcol(\u001b[38;5;124m\"\u001b[39m\u001b[38;5;124mLicensing_Status_ID\u001b[39m\u001b[38;5;124m\"\u001b[39m) \u001b[38;5;241m==\u001b[39m \u001b[38;5;241m1\u001b[39m)\n\u001b[1;32m      9\u001b[0m     )\n",
      "\u001b[0;31mNameError\u001b[0m: name 'spark' is not defined"
     ]
    }
   ],
   "source": [
    "from pyspark.sql import DataFrame\n",
    "from pyspark.sql import functions as F\n",
    "\n",
    "df.filter(\n",
    "    (F.col(\"Data_Month\") < F.to_date(F.lit(\"2020-12-31\")))\n",
    "    & (F.col(\"Data_Month\") >= F.to_date(F.lit(\"2020-01-01\")))\n",
    "    & (F.col(\"License_Additional_Type\") == \"0#0#0\")\n",
    "    & (F.col(\"Licensing_Status_ID\") == 1)\n",
    ")"
   ]
  },
  {
   "cell_type": "code",
   "execution_count": null,
   "metadata": {},
   "outputs": [],
   "source": []
  }
 ],
 "metadata": {
  "kernelspec": {
   "display_name": ".venv",
   "language": "python",
   "name": "python3"
  },
  "language_info": {
   "codemirror_mode": {
    "name": "ipython",
    "version": 3
   },
   "file_extension": ".py",
   "mimetype": "text/x-python",
   "name": "python",
   "nbconvert_exporter": "python",
   "pygments_lexer": "ipython3",
   "version": "3.11.4"
  }
 },
 "nbformat": 4,
 "nbformat_minor": 2
}
