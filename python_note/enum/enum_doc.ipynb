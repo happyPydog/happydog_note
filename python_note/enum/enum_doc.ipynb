{
 "cells": [
  {
   "cell_type": "code",
   "execution_count": 21,
   "metadata": {},
   "outputs": [],
   "source": [
    "from enum import Enum\n",
    "\n",
    "\n",
    "class Weekday(Enum):\n",
    "    MONDAY = 1\n",
    "    TUESDAY = 2\n",
    "    WEDNESDAY = 3\n",
    "    THURSDAY = 4\n",
    "    FRIDAY = 5\n",
    "    SATURDAY = 6\n",
    "    SUNDAY = 7"
   ]
  },
  {
   "cell_type": "code",
   "execution_count": 23,
   "metadata": {},
   "outputs": [
    {
     "name": "stdout",
     "output_type": "stream",
     "text": [
      "Weekday.MONDAY 1\n",
      "Weekday.TUESDAY 2\n",
      "Weekday.WEDNESDAY 3\n",
      "Weekday.THURSDAY 4\n",
      "Weekday.FRIDAY 5\n",
      "Weekday.SATURDAY 6\n",
      "Weekday.SUNDAY 7\n"
     ]
    }
   ],
   "source": [
    "for day in Weekday:\n",
    "    print(day, day.value)"
   ]
  },
  {
   "cell_type": "code",
   "execution_count": 34,
   "metadata": {},
   "outputs": [
    {
     "name": "stdout",
     "output_type": "stream",
     "text": [
      "searchapp is in CustomEnum\n"
     ]
    }
   ],
   "source": [
    "from enum import StrEnum\n",
    "\n",
    "\n",
    "class CustomEnum(StrEnum):\n",
    "    searchapp = \"searchapp\"\n",
    "    searchengine = \"searchengine\"\n",
    "    searchapi = \"searchapi\"\n",
    "\n",
    "\n",
    "app_name = \"searchapp\"\n",
    "\n",
    "if app_name in (member.value for member in CustomEnum):\n",
    "    print(f\"{app_name} is in CustomEnum\")\n",
    "else:\n",
    "    print(f\"{app_name} is not in CustomEnum\")"
   ]
  },
  {
   "cell_type": "code",
   "execution_count": 36,
   "metadata": {},
   "outputs": [
    {
     "name": "stdout",
     "output_type": "stream",
     "text": [
      "searchapp is in CustomEnum\n"
     ]
    }
   ],
   "source": [
    "try:\n",
    "    # 如果app_name是CustomEnum中的一个值，这将成功\n",
    "    if CustomEnum(app_name):\n",
    "        print(f\"{app_name} is in CustomEnum\")\n",
    "except ValueError:\n",
    "    # 如果转换失败（即app_name不是CustomEnum的值），将抛出ValueError\n",
    "    print(f\"{app_name} is not in CustomEnum\")"
   ]
  },
  {
   "cell_type": "markdown",
   "metadata": {},
   "source": [
    "如果定义了 __new__() 或 __init__()，则枚举成员的值将被传给这些方法:"
   ]
  },
  {
   "cell_type": "code",
   "execution_count": 4,
   "metadata": {},
   "outputs": [
    {
     "name": "stdout",
     "output_type": "stream",
     "text": [
      "(5.976e+24, 6378140.0)\n",
      "9.802652743337129\n"
     ]
    }
   ],
   "source": [
    "class Planet(Enum):\n",
    "    MERCURY = (3.303e23, 2.4397e6)\n",
    "    VENUS = (4.869e24, 6.0518e6)\n",
    "    EARTH = (5.976e24, 6.37814e6)\n",
    "    MARS = (6.421e23, 3.3972e6)\n",
    "    JUPITER = (1.9e27, 7.1492e7)\n",
    "    SATURN = (5.688e26, 6.0268e7)\n",
    "    URANUS = (8.686e25, 2.5559e7)\n",
    "    NEPTUNE = (1.024e26, 2.4746e7)\n",
    "\n",
    "    def __init__(self, mass, radius):\n",
    "        self.mass = mass  # in kilograms\n",
    "        self.radius = radius  # in meters\n",
    "\n",
    "    @property\n",
    "    def surface_gravity(self):\n",
    "        # universal gravitational constant  (m3 kg-1 s-2)\n",
    "        G = 6.67300e-11\n",
    "        return G * self.mass / (self.radius * self.radius)\n",
    "\n",
    "\n",
    "print(Planet.EARTH.value)\n",
    "\n",
    "print(Planet.EARTH.surface_gravity)"
   ]
  },
  {
   "cell_type": "markdown",
   "metadata": {},
   "source": [
    "TimePeriod"
   ]
  },
  {
   "cell_type": "code",
   "execution_count": 5,
   "metadata": {},
   "outputs": [
    {
     "data": {
      "text/plain": [
       "[<Period.day_365: datetime.timedelta(days=365)>,\n",
       " <Period.day_366: datetime.timedelta(days=366)>]"
      ]
     },
     "execution_count": 5,
     "metadata": {},
     "output_type": "execute_result"
    }
   ],
   "source": [
    "from datetime import timedelta\n",
    "\n",
    "\n",
    "class Period(timedelta, Enum):\n",
    "    \"different lengths of time\"\n",
    "    _ignore_ = \"Period i\"\n",
    "    Period = vars()\n",
    "    for i in range(367):\n",
    "        Period[\"day_%d\" % i] = i\n",
    "\n",
    "\n",
    "list(Period)[:2]\n",
    "\n",
    "list(Period)[-2:]"
   ]
  },
  {
   "cell_type": "code",
   "execution_count": 15,
   "metadata": {},
   "outputs": [
    {
     "ename": "AttributeError",
     "evalue": "'datetime.timedelta' object has no attribute 'items'",
     "output_type": "error",
     "traceback": [
      "\u001b[1;31m---------------------------------------------------------------------------\u001b[0m",
      "\u001b[1;31mAttributeError\u001b[0m                            Traceback (most recent call last)",
      "Cell \u001b[1;32mIn[15], line 1\u001b[0m\n\u001b[1;32m----> 1\u001b[0m \u001b[38;5;28;43mlist\u001b[39;49m\u001b[43m(\u001b[49m\u001b[43mPeriod\u001b[49m\u001b[43m)\u001b[49m\u001b[43m[\u001b[49m\u001b[38;5;241;43m0\u001b[39;49m\u001b[43m]\u001b[49m\u001b[38;5;241;43m.\u001b[39;49m\u001b[43mvalue\u001b[49m\u001b[38;5;241;43m.\u001b[39;49m\u001b[43mitems\u001b[49m()\n",
      "\u001b[1;31mAttributeError\u001b[0m: 'datetime.timedelta' object has no attribute 'items'"
     ]
    }
   ],
   "source": [
    "list(Period)[0].value.items()"
   ]
  },
  {
   "cell_type": "code",
   "execution_count": null,
   "metadata": {},
   "outputs": [],
   "source": []
  }
 ],
 "metadata": {
  "kernelspec": {
   "display_name": "Python 3",
   "language": "python",
   "name": "python3"
  },
  "language_info": {
   "codemirror_mode": {
    "name": "ipython",
    "version": 3
   },
   "file_extension": ".py",
   "mimetype": "text/x-python",
   "name": "python",
   "nbconvert_exporter": "python",
   "pygments_lexer": "ipython3",
   "version": "3.11.7"
  }
 },
 "nbformat": 4,
 "nbformat_minor": 2
}
